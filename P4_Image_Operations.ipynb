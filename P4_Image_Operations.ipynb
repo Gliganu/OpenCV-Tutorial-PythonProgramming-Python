{
 "cells": [
  {
   "cell_type": "code",
   "execution_count": 8,
   "metadata": {
    "collapsed": true
   },
   "outputs": [],
   "source": [
    "%matplotlib inline\n",
    "\n",
    "import cv2\n",
    "import numpy as np\n",
    "from matplotlib import pyplot as plt"
   ]
  },
  {
   "cell_type": "code",
   "execution_count": 18,
   "metadata": {
    "collapsed": true
   },
   "outputs": [],
   "source": [
    "img = cv2.imread(\"pics/cameraman.bmp\",cv2.IMREAD_COLOR)"
   ]
  },
  {
   "cell_type": "markdown",
   "metadata": {},
   "source": [
    "Every video breaks down into frames. Each frame, like an image, then breaks down into pixels stored in rows and columns within the frame/picture. Each pixel has a coordinate location, and each pixel is comprised of color values. Let's work out some examples of accessing various bits of these principles."
   ]
  },
  {
   "cell_type": "code",
   "execution_count": 19,
   "metadata": {
    "collapsed": false
   },
   "outputs": [
    {
     "name": "stdout",
     "output_type": "stream",
     "text": [
      "[180 180 180]\n"
     ]
    }
   ],
   "source": [
    "px = img[55,55]\n",
    "\n",
    "print(px)"
   ]
  },
  {
   "cell_type": "code",
   "execution_count": 20,
   "metadata": {
    "collapsed": false
   },
   "outputs": [
    {
     "name": "stdout",
     "output_type": "stream",
     "text": [
      "[[[  9   9   9]\n",
      "  [ 11  11  11]\n",
      "  [ 13  13  13]\n",
      "  ..., \n",
      "  [ 18  18  18]\n",
      "  [ 20  20  20]\n",
      "  [ 19  19  19]]\n",
      "\n",
      " [[ 12  12  12]\n",
      "  [ 12  12  12]\n",
      "  [ 12  12  12]\n",
      "  ..., \n",
      "  [ 25  25  25]\n",
      "  [ 17  17  17]\n",
      "  [ 16  16  16]]\n",
      "\n",
      " [[ 13  13  13]\n",
      "  [ 12  12  12]\n",
      "  [ 12  12  12]\n",
      "  ..., \n",
      "  [ 23  23  23]\n",
      "  [ 23  23  23]\n",
      "  [ 18  18  18]]\n",
      "\n",
      " ..., \n",
      " [[ 15  15  15]\n",
      "  [ 14  14  14]\n",
      "  [ 14  14  14]\n",
      "  ..., \n",
      "  [ 92  92  92]\n",
      "  [113 113 113]\n",
      "  [127 127 127]]\n",
      "\n",
      " [[ 14  14  14]\n",
      "  [ 15  15  15]\n",
      "  [ 14  14  14]\n",
      "  ..., \n",
      "  [108 108 108]\n",
      "  [126 126 126]\n",
      "  [135 135 135]]\n",
      "\n",
      " [[ 15  15  15]\n",
      "  [ 15  15  15]\n",
      "  [ 16  16  16]\n",
      "  ..., \n",
      "  [113 113 113]\n",
      "  [130 130 130]\n",
      "  [143 143 143]]]\n"
     ]
    }
   ],
   "source": [
    "#region of image\n",
    "roi = img[100:150,100:150]\n",
    "\n",
    "print(roi)"
   ]
  },
  {
   "cell_type": "code",
   "execution_count": 21,
   "metadata": {
    "collapsed": false
   },
   "outputs": [],
   "source": [
    "img[100:150,100:150] = [255,255,255]"
   ]
  },
  {
   "cell_type": "code",
   "execution_count": 22,
   "metadata": {
    "collapsed": false
   },
   "outputs": [],
   "source": [
    "white_rectangle = img[100:150,100:150]\n",
    "\n",
    "img[0:50,0:50] = white_rectangle"
   ]
  },
  {
   "cell_type": "code",
   "execution_count": 23,
   "metadata": {
    "collapsed": false
   },
   "outputs": [],
   "source": [
    "cv2.imshow('image',img)\n",
    "cv2.waitKey(0)\n",
    "cv2.destroyAllWindows()"
   ]
  },
  {
   "cell_type": "code",
   "execution_count": null,
   "metadata": {
    "collapsed": true
   },
   "outputs": [],
   "source": []
  },
  {
   "cell_type": "code",
   "execution_count": null,
   "metadata": {
    "collapsed": true
   },
   "outputs": [],
   "source": []
  },
  {
   "cell_type": "code",
   "execution_count": null,
   "metadata": {
    "collapsed": true
   },
   "outputs": [],
   "source": []
  }
 ],
 "metadata": {
  "kernelspec": {
   "display_name": "Python 3",
   "language": "python",
   "name": "python3"
  },
  "language_info": {
   "codemirror_mode": {
    "name": "ipython",
    "version": 3
   },
   "file_extension": ".py",
   "mimetype": "text/x-python",
   "name": "python",
   "nbconvert_exporter": "python",
   "pygments_lexer": "ipython3",
   "version": "3.5.1"
  }
 },
 "nbformat": 4,
 "nbformat_minor": 0
}
