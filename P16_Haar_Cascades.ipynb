{
 "cells": [
  {
   "cell_type": "code",
   "execution_count": null,
   "metadata": {
    "collapsed": true
   },
   "outputs": [],
   "source": [
    "%matplotlib inline\n",
    "\n",
    "import cv2\n",
    "import numpy as np"
   ]
  },
  {
   "cell_type": "code",
   "execution_count": null,
   "metadata": {
    "collapsed": false
   },
   "outputs": [],
   "source": [
    "#https://github.com/Itseez/opencv/blob/master/data/haarcascades/haarcascade_frontalface_default.xml\n",
    "face_cascade = cv2.CascadeClassifier('pics/haarcascade_frontalface_default.xml')\n",
    "#https://github.com/Itseez/opencv/blob/master/data/haarcascades/haarcascade_eye.xml\n",
    "eye_cascade = cv2.CascadeClassifier('pics/haarcascade_eye.xml')\n",
    "\n",
    "mouth_cascade = cv2.CascadeClassifier('pics/mouth-cascade.xml')"
   ]
  },
  {
   "cell_type": "code",
   "execution_count": 20,
   "metadata": {
    "collapsed": false
   },
   "outputs": [
    {
     "name": "stdout",
     "output_type": "stream",
     "text": [
      "(True, array([[[ 26,  24,  25],\n",
      "        [ 26,  24,  25],\n",
      "        [ 22,  24,  24],\n",
      "        ..., \n",
      "        [118, 110,  89],\n",
      "        [120, 106,  93],\n",
      "        [123, 109,  96]],\n",
      "\n",
      "       [[ 22,  24,  24],\n",
      "        [ 22,  24,  24],\n",
      "        [ 22,  24,  24],\n",
      "        ..., \n",
      "        [120, 109,  89],\n",
      "        [120, 108,  90],\n",
      "        [121, 109,  91]],\n",
      "\n",
      "       [[ 27,  25,  26],\n",
      "        [ 26,  24,  25],\n",
      "        [ 22,  24,  24],\n",
      "        ..., \n",
      "        [121, 111,  86],\n",
      "        [119, 110,  91],\n",
      "        [122, 113,  94]],\n",
      "\n",
      "       ..., \n",
      "       [[ 28,  26,  27],\n",
      "        [ 28,  26,  27],\n",
      "        [ 28,  26,  27],\n",
      "        ..., \n",
      "        [ 27,  25,  26],\n",
      "        [ 27,  25,  26],\n",
      "        [ 27,  25,  26]],\n",
      "\n",
      "       [[ 28,  26,  27],\n",
      "        [ 28,  26,  27],\n",
      "        [ 28,  26,  27],\n",
      "        ..., \n",
      "        [ 27,  25,  26],\n",
      "        [ 27,  25,  26],\n",
      "        [ 27,  25,  26]],\n",
      "\n",
      "       [[ 28,  26,  27],\n",
      "        [ 28,  26,  27],\n",
      "        [ 28,  26,  27],\n",
      "        ..., \n",
      "        [ 27,  25,  26],\n",
      "        [ 27,  25,  26],\n",
      "        [ 27,  25,  26]]], dtype=uint8))\n"
     ]
    }
   ],
   "source": [
    "\n",
    "cap = cv2.VideoCapture(0)\n",
    "\n",
    "while(True):\n",
    "    ret, img = cap.read()\n",
    "    gray = cv2.cvtColor(img, cv2.COLOR_BGR2GRAY)\n",
    "    faces = face_cascade.detectMultiScale(gray, 1.3, 5)\n",
    "    \n",
    "    mouthes = mouth_cascade.detectMultiScale(gray,1.3,10)\n",
    "#     mouthes = mouth_cascade.detectMultiScale(\n",
    "#         gray,\n",
    "#         scaleFactor=2,\n",
    "#         #minNeighbors=5,\n",
    "#         minSize=(30, 30),\n",
    "#         flags=cv2.cv.CV_HAAR_SCALE_IMAGE\n",
    "#     )\n",
    "    \n",
    "    for (x,y,w,h) in mouthes:\n",
    "        cv2.rectangle(img,(x,y),(x+w,y+h),(255,255,0),2)\n",
    "    \n",
    "    for (x,y,w,h) in faces:\n",
    "        cv2.rectangle(img,(x,y),(x+w,y+h),(255,0,0),2)\n",
    "        roi_gray = gray[y:y+h, x:x+w]\n",
    "        roi_color = img[y:y+h, x:x+w]\n",
    "        \n",
    "        eyes = eye_cascade.detectMultiScale(roi_gray)\n",
    "        for (ex,ey,ew,eh) in eyes:\n",
    "            cv2.rectangle(roi_color,(ex,ey),(ex+ew,ey+eh),(0,255,0),2)\n",
    "\n",
    "    cv2.imshow('img',img)\n",
    "    k = cv2.waitKey(30) & 0xff\n",
    "    if k == 27:\n",
    "        break\n",
    "\n",
    "cap.release()\n",
    "cv2.destroyAllWindows()"
   ]
  },
  {
   "cell_type": "code",
   "execution_count": 21,
   "metadata": {
    "collapsed": true
   },
   "outputs": [],
   "source": [
    "cap.release()\n",
    "cv2.destroyAllWindows()"
   ]
  },
  {
   "cell_type": "code",
   "execution_count": null,
   "metadata": {
    "collapsed": true
   },
   "outputs": [],
   "source": []
  }
 ],
 "metadata": {
  "kernelspec": {
   "display_name": "Python 3",
   "language": "python",
   "name": "python3"
  },
  "language_info": {
   "codemirror_mode": {
    "name": "ipython",
    "version": 3
   },
   "file_extension": ".py",
   "mimetype": "text/x-python",
   "name": "python",
   "nbconvert_exporter": "python",
   "pygments_lexer": "ipython3",
   "version": "3.5.1"
  }
 },
 "nbformat": 4,
 "nbformat_minor": 0
}
