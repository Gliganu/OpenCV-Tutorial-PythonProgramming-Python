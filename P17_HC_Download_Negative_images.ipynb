{
 "cells": [
  {
   "cell_type": "code",
   "execution_count": 1,
   "metadata": {
    "collapsed": false
   },
   "outputs": [
    {
     "ename": "ImportError",
     "evalue": "No module named 'urllib2'",
     "output_type": "error",
     "traceback": [
      "\u001b[1;31m---------------------------------------------------------------------------\u001b[0m",
      "\u001b[1;31mImportError\u001b[0m                               Traceback (most recent call last)",
      "\u001b[1;32m<ipython-input-1-6bb8c3e4f8c6>\u001b[0m in \u001b[0;36m<module>\u001b[1;34m()\u001b[0m\n\u001b[1;32m----> 1\u001b[1;33m \u001b[1;32mfrom\u001b[0m \u001b[0murllib2\u001b[0m \u001b[1;32mimport\u001b[0m \u001b[0murlopen\u001b[0m\u001b[1;33m\u001b[0m\u001b[0m\n\u001b[0m\u001b[0;32m      2\u001b[0m \u001b[1;32mfrom\u001b[0m \u001b[0murllib\u001b[0m \u001b[1;32mimport\u001b[0m \u001b[0murlretrieve\u001b[0m\u001b[1;33m\u001b[0m\u001b[0m\n\u001b[0;32m      3\u001b[0m \u001b[1;32mimport\u001b[0m \u001b[0mcv2\u001b[0m\u001b[1;33m\u001b[0m\u001b[0m\n\u001b[0;32m      4\u001b[0m \u001b[1;32mimport\u001b[0m \u001b[0mnumpy\u001b[0m \u001b[1;32mas\u001b[0m \u001b[0mnp\u001b[0m\u001b[1;33m\u001b[0m\u001b[0m\n\u001b[0;32m      5\u001b[0m \u001b[1;32mimport\u001b[0m \u001b[0mos\u001b[0m\u001b[1;33m\u001b[0m\u001b[0m\n",
      "\u001b[1;31mImportError\u001b[0m: No module named 'urllib2'"
     ]
    }
   ],
   "source": [
    "from urllib2 import urlopen\n",
    "from urllib import urlretrieve\n",
    "import cv2\n",
    "import numpy as np\n",
    "import os"
   ]
  },
  {
   "cell_type": "code",
   "execution_count": null,
   "metadata": {
    "collapsed": false
   },
   "outputs": [],
   "source": [
    "def store_raw_images():\n",
    "    #neg_images_link = 'http://image-net.org/api/text/imagenet.synset.geturls?wnid=n00523513'   \n",
    "    neg_images_link = 'http://image-net.org/api/text/imagenet.synset.geturls?wnid=n07942152'   \n",
    "    neg_image_urls = urlopen(neg_images_link).read().decode()\n",
    "    \n",
    "    if not os.path.exists('neg'):\n",
    "        os.makedirs('neg')\n",
    "        \n",
    "    #pic_num = 1\n",
    "    pic_num = 947\n",
    "        \n",
    "    for i in neg_image_urls.split('\\n'):\n",
    "        \n",
    "        try:\n",
    "            print i\n",
    "            urlretrieve(i,\"neg/\"+str(pic_num)+\".jpg\")\n",
    "            \n",
    "            img = cv2.imread(\"neg/\"+str(pic_num)+\".jpg\",cv2.IMREAD_GRAYSCALE)\n",
    "            \n",
    "            resized_image = cv2.resize(img,(100,100))\n",
    "            \n",
    "            cv2.imwrite(\"neg/\"+str(pic_num)+\".jpg\",resized_image)\n",
    "            \n",
    "            pic_num += 1\n",
    "            \n",
    "        except Exception as e:\n",
    "            print str(e)\n",
    "    \n",
    "    "
   ]
  },
  {
   "cell_type": "code",
   "execution_count": null,
   "metadata": {
    "collapsed": false
   },
   "outputs": [],
   "source": [
    "store_raw_images()"
   ]
  },
  {
   "cell_type": "code",
   "execution_count": null,
   "metadata": {
    "collapsed": true
   },
   "outputs": [],
   "source": [
    "def find_uglies():\n",
    "    \n",
    "    for file_type in ['neg']:\n",
    "        \n",
    "        for img in os.listdir(file_type):\n",
    "            \n",
    "            for ugly in os.listdir('uglies'):\n",
    "                \n",
    "                try:\n",
    "                    current_image_path = str(file_type)+\"/\"+str(img)\n",
    "                    ugly = cv2.imread('uglies/'+str(ugly))\n",
    "                    \n",
    "                    question = cv2.imread(current_image_path)\n",
    "                    \n",
    "                    if ugly.shape == question.shape and not(np.bitwise_xor(ugly,question).any()):\n",
    "                        print('Ugly pic found')\n",
    "                        print current_image_path\n",
    "                        os.remove(current_image_path)\n",
    "                        \n",
    "                    \n",
    "                except Exception as e:\n",
    "                    print str(e)"
   ]
  },
  {
   "cell_type": "code",
   "execution_count": null,
   "metadata": {
    "collapsed": true
   },
   "outputs": [],
   "source": [
    "def create_pos_n_neg():\n",
    "    for file_type in ['neg']:\n",
    "        \n",
    "        for img in os.listdir(file_type):\n",
    "\n",
    "            if file_type == 'pos':\n",
    "                line = file_type+'/'+img+' 1 0 0 50 50\\n'\n",
    "                with open('info.dat','a') as f:\n",
    "                    f.write(line)\n",
    "            elif file_type == 'neg':\n",
    "                line = file_type+'/'+img\n",
    "                with open('bg.txt','a') as f:\n",
    "                    f.write(line)"
   ]
  },
  {
   "cell_type": "code",
   "execution_count": null,
   "metadata": {
    "collapsed": false
   },
   "outputs": [],
   "source": [
    "find_uglies()"
   ]
  },
  {
   "cell_type": "code",
   "execution_count": null,
   "metadata": {
    "collapsed": false
   },
   "outputs": [],
   "source": [
    "create_pos_n_neg()"
   ]
  },
  {
   "cell_type": "code",
   "execution_count": null,
   "metadata": {
    "collapsed": true
   },
   "outputs": [],
   "source": []
  }
 ],
 "metadata": {
  "kernelspec": {
   "display_name": "Python 3",
   "language": "python",
   "name": "python3"
  },
  "language_info": {
   "codemirror_mode": {
    "name": "ipython",
    "version": 3
   },
   "file_extension": ".py",
   "mimetype": "text/x-python",
   "name": "python",
   "nbconvert_exporter": "python",
   "pygments_lexer": "ipython3",
   "version": "3.5.1"
  }
 },
 "nbformat": 4,
 "nbformat_minor": 0
}
