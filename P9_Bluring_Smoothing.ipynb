{
 "cells": [
  {
   "cell_type": "code",
   "execution_count": 1,
   "metadata": {
    "collapsed": true
   },
   "outputs": [],
   "source": [
    "%matplotlib inline\n",
    "\n",
    "import cv2\n",
    "import numpy as np\n",
    "from matplotlib import pyplot as plt"
   ]
  },
  {
   "cell_type": "code",
   "execution_count": 11,
   "metadata": {
    "collapsed": false
   },
   "outputs": [],
   "source": [
    "cap = cv2.VideoCapture(0)\n",
    "\n",
    "while True:\n",
    "    _, frame = cap.read()\n",
    "    hsv = cv2.cvtColor(frame, cv2.COLOR_BGR2HSV)\n",
    "    \n",
    "    lower_blue = np.array([100,0,0])\n",
    "    upper_blue = np.array([200,255,255])\n",
    "    \n",
    "    mask = cv2.inRange(hsv,lower_blue,upper_blue)\n",
    "    res = cv2.bitwise_and(frame,frame,mask = mask)\n",
    "    \n",
    "    kernel = np.ones((15,15), np.float32)/225 # 15x15 = 225\n",
    "    \n",
    "    smoothed = cv2.filter2D(res,-1,kernel) #averaging the pixels ( getting rid of background noise but also reducing clarity)\n",
    "    \n",
    "    blur = cv2.GaussianBlur(res,(15,15),0)\n",
    "    \n",
    "    median = cv2.medianBlur(res,15) # his favorite\n",
    "    \n",
    "    bilateral = cv2.bilateralFilter(res,15,75,75) \n",
    "    \n",
    "    cv2.imshow('frame',frame)\n",
    "    cv2.imshow('smoothed',smoothed)\n",
    "    cv2.imshow('blur',blur)\n",
    "    cv2.imshow('median',median)\n",
    "    cv2.imshow('bilateral',bilateral)\n",
    "    cv2.imshow('res',res)\n",
    "    \n",
    "    k = cv2.waitKey(5) & 0xFF\n",
    "    \n",
    "    if k == 27:\n",
    "        break\n",
    "        \n",
    "\n",
    "cv2.destroyAllWindows()\n",
    "cap.release()\n",
    "    "
   ]
  },
  {
   "cell_type": "code",
   "execution_count": 9,
   "metadata": {
    "collapsed": true
   },
   "outputs": [],
   "source": [
    "cap.release()"
   ]
  },
  {
   "cell_type": "code",
   "execution_count": null,
   "metadata": {
    "collapsed": true
   },
   "outputs": [],
   "source": []
  }
 ],
 "metadata": {
  "kernelspec": {
   "display_name": "Python 2",
   "language": "python",
   "name": "python2"
  },
  "language_info": {
   "codemirror_mode": {
    "name": "ipython",
    "version": 2
   },
   "file_extension": ".py",
   "mimetype": "text/x-python",
   "name": "python",
   "nbconvert_exporter": "python",
   "pygments_lexer": "ipython2",
   "version": "2.7.11"
  }
 },
 "nbformat": 4,
 "nbformat_minor": 0
}
